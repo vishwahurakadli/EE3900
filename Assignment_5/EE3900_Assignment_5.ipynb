{
  "nbformat": 4,
  "nbformat_minor": 0,
  "metadata": {
    "colab": {
      "name": "Untitled10.ipynb",
      "provenance": [],
      "collapsed_sections": [],
      "authorship_tag": "ABX9TyOn+VA1I6wytjpfPBLiKhe/",
      "include_colab_link": true
    },
    "kernelspec": {
      "name": "python3",
      "display_name": "Python 3"
    },
    "language_info": {
      "name": "python"
    }
  },
  "cells": [
    {
      "cell_type": "markdown",
      "metadata": {
        "id": "view-in-github",
        "colab_type": "text"
      },
      "source": [
        "<a href=\"https://colab.research.google.com/github/vishwahurakadli/EE3900/blob/main/Assignment_5/EE3900_Assignment_5.ipynb\" target=\"_parent\"><img src=\"https://colab.research.google.com/assets/colab-badge.svg\" alt=\"Open In Colab\"/></a>"
      ]
    },
    {
      "cell_type": "code",
      "metadata": {
        "colab": {
          "base_uri": "https://localhost:8080/",
          "height": 279
        },
        "id": "WR9u_nudGvcZ",
        "outputId": "d87c4a22-934f-4f95-ce4e-23abaae803e8"
      },
      "source": [
        "import numpy as np\n",
        "import matplotlib.pyplot as plt\n",
        "from numpy import linalg as LA\n",
        "\n",
        "#setting up plot\n",
        "fig = plt.figure()\n",
        "ax = fig.add_subplot(111)\n",
        "len = 500\n",
        "x = np.linspace(-5,5,len)\n",
        "\n",
        "#Generate line points\n",
        "def line(A,B):\n",
        "  len =10\n",
        "  y_AB = np.zeros((2,len))\n",
        "  lam_1 = np.linspace(0,1,len)\n",
        "  for i in range(len):\n",
        "    temp1 = A + lam_1[i]*(B-A)\n",
        "    y_AB[:,i]= temp1.T\n",
        "  return y_AB\n",
        "\n",
        "\n",
        "#ELLIPSE parameters\n",
        "V = np.array(([9,0],[0,25]))\n",
        "f = -225\n",
        "u = np.array(([0,0]))\n",
        "Vinv = LA.inv(V)\n",
        "\n",
        "#eigenvalues and eigenvectors\n",
        "D_vec,P = LA.eig(V)\n",
        "D = np.diag(D_vec)\n",
        "uconst = u.T@Vinv@u-f\n",
        "a = 5\n",
        "b = 3\n",
        "\n",
        "def ellipse(y):\n",
        "\ty = 3*np.sqrt(1-(x**2/25))\n",
        "\treturn y\n",
        "\n",
        "#Affine Parameters\n",
        "c = -Vinv@u\n",
        "R =  np.array(([0,5],[3,0]))\n",
        "ParamMatrix = np.array(([a,0],[0,b]))\n",
        "\n",
        "\n",
        "#Generating the ellipse\n",
        "y = ellipse(x)\n",
        "yStandardLeft = np.vstack((x,-y))\n",
        "yStandardRight = np.vstack((x,y))\n",
        "\n",
        "#Plotting points\n",
        "A = np.array([5,0])\n",
        "B = np.array([-5,0])\n",
        "C = np.array([0,3])\n",
        "D = np.array([0,-3])\n",
        "f_1 = np.array([4,0])\n",
        "f_2 = np.array([-4,0])\n",
        "\n",
        "#Plotting the standard ellipse\n",
        "plt.plot(yStandardLeft[0,:],yStandardLeft[1,:],label='ellipse',color='b')\n",
        "plt.plot(yStandardRight[0,:],yStandardRight[1,:],color='b')\n",
        "\n",
        "#Plotting the major and minor axis of the ellipse\n",
        "x_AB = line(A,B)\n",
        "plt.plot(x_AB[0,:],x_AB[1,:],color='y')\n",
        "x_CD = line(C,D)\n",
        "plt.plot(x_CD[0,:],x_CD[1,:],color='y')\n",
        "\n",
        "plt.plot(0,0, 'o',color='r',markersize=3)\n",
        "plt.text(0.5 ,-0.5,'C')\n",
        "plt.plot(5,0, 'o',color='r',markersize=3)\n",
        "plt.text(5,0.2,'A')\n",
        "plt.plot(-5,0, 'o',color='r',markersize=3)\n",
        "plt.text(-5,-0.2,'B')\n",
        "plt.plot(4,0, 'o',color='r',markersize=3)\n",
        "plt.text(4,0.2,'F1')\n",
        "plt.plot(-4,0, 'o',color='r',markersize=3)\n",
        "plt.text(-4,0.2,'F2')\n",
        "\n",
        "\n",
        "plt.xlabel('$x$')\n",
        "plt.ylabel('$y$')\n",
        "plt.legend(loc='best')\n",
        "plt.grid() # minor\n",
        "plt.axis('equal')\n",
        "plt.show()"
      ],
      "execution_count": 33,
      "outputs": [
        {
          "output_type": "display_data",
          "data": {
            "image/png": "[encoded data removed]",
            "text/plain": [
              "<Figure size 432x288 with 1 Axes>"
            ]
          },
          "metadata": {
            "needs_background": "light"
          }
        }
      ]
    }
  ]
}