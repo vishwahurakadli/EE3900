import numpy as np

A = np.array([[-2],[4],[5]])
B = np.array([[1,3,-6]])

print('A =\n',A)
print('B =\n',B)

#matrix multiplication
AB = np.array(0)
for i in range(3):
  AB = AB + np.array(A[i]*B[0][i])

AB_t = AB.T

print('Transpose of AB =',AB.T)
#printing LHS

A_t = A.T
B_t = np.array(B).reshape(-1,1)

print('Transpose A =\n',A_t)
print('Transpose B =\n',B_t)

#matrix multiplication 
B_tA_t = np.array(0)
for i in range(3):
  B_tA_t = B_tA_t + np.array(B_t[i]*A_t[0][i])

print('Transpose B*Transpose A =',B_tA_t)
#printing RHS
print('Therefore LHS = RHS')
